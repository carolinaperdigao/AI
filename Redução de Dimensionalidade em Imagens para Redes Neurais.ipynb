{
 "cells": [
  {
   "cell_type": "code",
   "execution_count": 2,
   "id": "53b5f0f7",
   "metadata": {},
   "outputs": [],
   "source": [
    "import cv2"
   ]
  },
  {
   "cell_type": "code",
   "execution_count": 3,
   "id": "28cc3357",
   "metadata": {},
   "outputs": [],
   "source": [
    "img = cv2.imread('C:/Users/MagnaTi/Documents/Carolina/DIO/love.png')\n",
    "img = cv2.cvtColor(img, cv2.COLOR_BGR2GRAY)"
   ]
  },
  {
   "cell_type": "code",
   "execution_count": 4,
   "id": "fc21ed90",
   "metadata": {},
   "outputs": [
    {
     "data": {
      "text/plain": [
       "array([[  8,   6,  15, ...,  35,  37,  33],\n",
       "       [  8,  10,  16, ...,  36,  36,  34],\n",
       "       [ 11,   6,   7, ...,  36,  36,  34],\n",
       "       ...,\n",
       "       [164, 160, 159, ...,  24,  25,  24],\n",
       "       [167, 166, 164, ...,  25,  26,  24],\n",
       "       [171, 172, 169, ...,  26,  27,  28]], dtype=uint8)"
      ]
     },
     "execution_count": 4,
     "metadata": {},
     "output_type": "execute_result"
    }
   ],
   "source": [
    "img"
   ]
  },
  {
   "cell_type": "code",
   "execution_count": 5,
   "id": "0e060ad9",
   "metadata": {},
   "outputs": [
    {
     "data": {
      "text/plain": [
       "array([[ 10,  10,  11, ...,  36,  36,  36],\n",
       "       [ 10,  11,  11, ...,  36,  36,  36],\n",
       "       [ 11,  11,  11, ...,  37,  36,  36],\n",
       "       ...,\n",
       "       [162, 162, 161, ...,  24,  24,  24],\n",
       "       [164, 164, 164, ...,  24,  25,  25],\n",
       "       [166, 165, 165, ...,  25,  25,  25]], dtype=uint8)"
      ]
     },
     "execution_count": 5,
     "metadata": {},
     "output_type": "execute_result"
    }
   ],
   "source": [
    "suave = cv2.GaussianBlur(img, (7, 7), 0)\n",
    "suave"
   ]
  },
  {
   "cell_type": "code",
   "execution_count": 6,
   "id": "dc510265",
   "metadata": {},
   "outputs": [],
   "source": [
    "(T, bin) = cv2.threshold(suave, 160, 255, cv2.THRESH_BINARY)\n",
    "(T, binI) = cv2.threshold(suave, 160, 255, cv2.THRESH_BINARY_INV)"
   ]
  },
  {
   "cell_type": "code",
   "execution_count": 7,
   "id": "08b3c45f",
   "metadata": {},
   "outputs": [],
   "source": [
    "import numpy as np\n",
    "\n",
    "resultado = np.vstack([\n",
    "    np.hstack([suave, bin]),\n",
    "    np.hstack([binI, cv2.bitwise_and(img, img, mask = binI)])\n",
    "])"
   ]
  },
  {
   "cell_type": "code",
   "execution_count": null,
   "id": "59122b51",
   "metadata": {},
   "outputs": [],
   "source": [
    "cv2.imshow(\"Binarização da imagem\", resultado)\n",
    "cv2.waitKey(0)"
   ]
  },
  {
   "cell_type": "code",
   "execution_count": null,
   "id": "c4ff28c1",
   "metadata": {},
   "outputs": [],
   "source": []
  }
 ],
 "metadata": {
  "kernelspec": {
   "display_name": "Python 3 (ipykernel)",
   "language": "python",
   "name": "python3"
  },
  "language_info": {
   "codemirror_mode": {
    "name": "ipython",
    "version": 3
   },
   "file_extension": ".py",
   "mimetype": "text/x-python",
   "name": "python",
   "nbconvert_exporter": "python",
   "pygments_lexer": "ipython3",
   "version": "3.9.13"
  }
 },
 "nbformat": 4,
 "nbformat_minor": 5
}
